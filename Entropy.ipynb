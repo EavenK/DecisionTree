{
 "cells": [
  {
   "cell_type": "code",
   "execution_count": 21,
   "metadata": {},
   "outputs": [
    {
     "name": "stdout",
     "output_type": "stream",
     "text": [
      "0.9798687566511528\n",
      "0.867261401483663\n",
      "0.11260735516748976\n"
     ]
    }
   ],
   "source": [
    "import numpy as np\n",
    "\n",
    "#data = None\n",
    "#y = None\n",
    "#X1 = None\n",
    "#X2 = None\n",
    "#data = np.loadtxt ('ml-bugs.csv', delimiter=',', skiprows=1)\n",
    "#y = data[:,:-2]\n",
    "#X1 = data[:, :-1]\n",
    "#X2 = data[:, -1]\n",
    "\n",
    "def two_group_entropy2 (first, total):\n",
    "    #ent = None\n",
    "    ent = -((first/total)*np.log2(first/total) + ((total-first)/total)*np.log2(((total-first)/total)))\n",
    "    return ent \n",
    "\n",
    "def two_group_entropy (m, n):\n",
    "    ent = None\n",
    "    total = m+n\n",
    "    ent = -((m/total)*np.log2(m/total) + ((n)/total)*np.log2(((n)/total)))\n",
    "    return ent \n",
    "\n",
    "parent_entropy = two_group_entropy (10,14)\n",
    "print (parent_entropy)\n",
    "\n",
    "# childs are of different size, so cannot divide by 1/2\n",
    "sizeofchild1 = 9/24\n",
    "sizeofchild2 = 15/24\n",
    "\n",
    "g17_entropy = (sizeofchild1)*two_group_entropy(6,3) + (sizeofchild2)*two_group_entropy(4,11)\n",
    "print (g17_entropy)\n",
    "\n",
    "information_gain = parent_entropy - g17_entropy\n",
    "print (information_gain)\n"
   ]
  },
  {
   "cell_type": "code",
   "execution_count": null,
   "metadata": {},
   "outputs": [],
   "source": []
  },
  {
   "cell_type": "code",
   "execution_count": null,
   "metadata": {},
   "outputs": [],
   "source": []
  }
 ],
 "metadata": {
  "kernelspec": {
   "display_name": "Python 3",
   "language": "python",
   "name": "python3"
  },
  "language_info": {
   "codemirror_mode": {
    "name": "ipython",
    "version": 3
   },
   "file_extension": ".py",
   "mimetype": "text/x-python",
   "name": "python",
   "nbconvert_exporter": "python",
   "pygments_lexer": "ipython3",
   "version": "3.6.4"
  }
 },
 "nbformat": 4,
 "nbformat_minor": 2
}
