{
 "cells": [
  {
   "cell_type": "code",
   "execution_count": 25,
   "metadata": {},
   "outputs": [
    {
     "name": "stdout",
     "output_type": "stream",
     "text": [
      "Species    24\n",
      "Color      24\n",
      "Length     24\n",
      "dtype: int64\n",
      "  Species  Color  Length\n",
      "0   Mobug  Brown    11.6\n",
      "1   Mobug   Blue    16.3\n",
      "2   Lobug   Blue    15.1\n",
      "3   Lobug  Green    23.7\n",
      "4   Lobug   Blue    18.4\n",
      "  Species  Color  Length\n",
      "1   Mobug   Blue    16.3\n",
      "2   Lobug   Blue    15.1\n",
      "3   Lobug  Green    23.7\n",
      "4   Lobug   Blue    18.4\n",
      "5   Lobug  Brown    17.1\n",
      "(96,)\n",
      "<class 'numpy.ndarray'>\n",
      "(96,)\n",
      "1.0\n"
     ]
    }
   ],
   "source": [
    "# Import statements \n",
    "from sklearn.tree import DecisionTreeClassifier\n",
    "from sklearn.metrics import accuracy_score\n",
    "import pandas as pd\n",
    "import numpy as np\n",
    "\n",
    "# Read the data.\n",
    "data = np.asarray(pd.read_csv('data.csv', header=None))\n",
    "# Assign the features to the variable X, and the labels to the variable y. \n",
    "X = data[:,0:2]\n",
    "y = data[:,2]\n",
    "\n",
    "\n",
    "#df = pd.read_csv(\"ml-bugs.csv\")\n",
    "#total = df['Species'].count()\n",
    "#print (total)\n",
    "#print(df.head())\n",
    "#rslt_df = df[df['Length'] > 15.0] \n",
    "#print(rslt_df.head())\n",
    "\n",
    "\n",
    "# TODO: Create the decision tree model and assign it to the variable model.\n",
    "# You won't need to, but if you'd like, play with hyperparameters such\n",
    "# as max_depth and min_samples_leaf and see what they do to the decision\n",
    "# boundary.\n",
    "model = None\n",
    "#model = DecisionTreeClassifier(max_depth=7, min_samples_leaf=1, min_samples_split=2)\n",
    "model = DecisionTreeClassifier(max_depth=7, min_samples_leaf=1)\n",
    "model = DecisionTreeClassifier()\n",
    "\n",
    "# TODO: Fit the model.\n",
    "model.fit(X, y)\n",
    "\n",
    "# TODO: Make predictions. Store them in the variable y_pred.\n",
    "y_pred = None\n",
    "y_pred = model.predict(X)\n",
    "\n",
    "\n",
    "# TODO: Calculate the accuracy and assign it to the variable acc.\n",
    "acc = None\n",
    "print (y.shape)\n",
    "print (type(y_pred))\n",
    "print (y_pred.shape)\n",
    "\n",
    "acc = accuracy_score(y,y_pred)\n",
    "print(acc)"
   ]
  },
  {
   "cell_type": "code",
   "execution_count": null,
   "metadata": {},
   "outputs": [],
   "source": []
  },
  {
   "cell_type": "code",
   "execution_count": null,
   "metadata": {},
   "outputs": [],
   "source": []
  }
 ],
 "metadata": {
  "kernelspec": {
   "display_name": "Python 3",
   "language": "python",
   "name": "python3"
  },
  "language_info": {
   "codemirror_mode": {
    "name": "ipython",
    "version": 3
   },
   "file_extension": ".py",
   "mimetype": "text/x-python",
   "name": "python",
   "nbconvert_exporter": "python",
   "pygments_lexer": "ipython3",
   "version": "3.6.4"
  }
 },
 "nbformat": 4,
 "nbformat_minor": 2
}
